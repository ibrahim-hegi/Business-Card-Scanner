{
 "cells": [
  {
   "cell_type": "code",
   "execution_count": 1,
   "id": "8d3e7386-5821-45c6-8dd6-e41731294569",
   "metadata": {},
   "outputs": [
    {
     "name": "stdout",
     "output_type": "stream",
     "text": [
      "Collecting pytesseract\n",
      "  Downloading pytesseract-0.3.13-py3-none-any.whl.metadata (11 kB)\n",
      "Requirement already satisfied: packaging>=21.3 in c:\\users\\dell\\anaconda3\\lib\\site-packages (from pytesseract) (23.2)\n",
      "Requirement already satisfied: Pillow>=8.0.0 in c:\\users\\dell\\anaconda3\\lib\\site-packages (from pytesseract) (10.3.0)\n",
      "Downloading pytesseract-0.3.13-py3-none-any.whl (14 kB)\n",
      "Installing collected packages: pytesseract\n",
      "Successfully installed pytesseract-0.3.13\n"
     ]
    }
   ],
   "source": [
    "!pip install pytesseract"
   ]
  },
  {
   "cell_type": "code",
   "execution_count": 4,
   "id": "5f14bd86-e092-454e-9134-092fc12fe3c0",
   "metadata": {},
   "outputs": [
    {
     "name": "stdout",
     "output_type": "stream",
     "text": [
      "Overwriting Document_Scanner.py\n"
     ]
    }
   ],
   "source": [
    "%%writefile Document_Scanner.py\n",
    "import cv2\n",
    "import streamlit as st\n",
    "from PIL import Image\n",
    "import numpy as np \n",
    "import pytesseract\n",
    "\n",
    "st.title(\"Document Scanner Application\")\n",
    "\n",
    "upload_image=st.file_uploader(\"please upload an image\",type=['png','jpeg','jpg'])\n",
    "\n",
    "#load pytesseract application to perform OCR\n",
    "pytesseract.pytesseract.tesseract_cmd=r\"C:\\Program Files\\Tesseract-OCR\\tesseract.exe\"\n",
    "\n",
    "#define func to scan an image\n",
    "def Extract_Text(img):\n",
    "    text=pytesseract.image_to_string(img)\n",
    "    return text\n",
    "\n",
    "if upload_image is not None:\n",
    "    img=Image.open(upload_image)\n",
    "\n",
    "    #convert image to array \n",
    "    image_array=np.array(img)\n",
    "\n",
    "    #show on streamlit\n",
    "    st.image(image_array,caption=\"Upload Image\",use_column_width=True)\n",
    "\n",
    "    with st.spinner(\"Extracted Text From Image..\"):\n",
    "        #call Extract_text func\n",
    "\n",
    "        extracted_text=Extract_Text(image_array)\n",
    "        st.subheader(\"Text Scanned\")\n",
    "        st.write(extracted_text)"
   ]
  },
  {
   "cell_type": "code",
   "execution_count": null,
   "id": "ebcee625-fb11-4968-8d8e-14282c9e46d7",
   "metadata": {},
   "outputs": [],
   "source": []
  }
 ],
 "metadata": {
  "kernelspec": {
   "display_name": "Python 3 (ipykernel)",
   "language": "python",
   "name": "python3"
  },
  "language_info": {
   "codemirror_mode": {
    "name": "ipython",
    "version": 3
   },
   "file_extension": ".py",
   "mimetype": "text/x-python",
   "name": "python",
   "nbconvert_exporter": "python",
   "pygments_lexer": "ipython3",
   "version": "3.12.4"
  }
 },
 "nbformat": 4,
 "nbformat_minor": 5
}
